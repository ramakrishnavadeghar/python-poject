{
 "cells": [
  {
   "cell_type": "code",
   "execution_count": 27,
   "metadata": {},
   "outputs": [
    {
     "name": "stdout",
     "output_type": "stream",
     "text": [
      "@migiquidab @theovss @_Nola_a Pourquoi tu mets une apostrophe entre schin et ichi\n",
      "Sentiment(polarity=0.0, subjectivity=0.0)\n",
      "@nanda_giagio @perinazzzo Loucas de schin kkkkkk amo ♥️\n",
      "Sentiment(polarity=0.0, subjectivity=0.0)\n",
      "@theovss @_Nola_a mais ces une citation que schin’ichi dit dans parasite tes con ou quoi gros c’est ta pp qui est gay\n",
      "Sentiment(polarity=0.4166666666666667, subjectivity=0.5833333333333334)\n",
      "Psa 119:161  SCHIN. Princes have persecuted me without a cause: but my heart standeth in awe of thy word.\n",
      "Psa 119:1… https://t.co/8CHI6AQUu8\n",
      "Sentiment(polarity=0.0, subjectivity=0.0)\n",
      "The first group gets started @MonroeCC Downtown Campus Flex Lab. Learning to make choices and be independent and sa… https://t.co/BEJ7xmmwC8\n",
      "Sentiment(polarity=0.125, subjectivity=0.22916666666666666)\n",
      "RT @MauCoosta: @ReiterWgr99 As schin ja estão gelando kkkk\n",
      "Sentiment(polarity=0.0, subjectivity=0.0)\n",
      "Thank you to the Good Samaritan who found a work study student’s money in the parking lot at @Wegmans Mt Read and t… https://t.co/knbFq6cZfY\n",
      "Sentiment(polarity=0.7, subjectivity=0.6000000000000001)\n",
      "Eu e minhas amigas no planeta tomando schin https://t.co/cgqG2y3ca7\n",
      "Sentiment(polarity=0.0, subjectivity=0.0)\n",
      "RT @Yagyadevyogya: #ReetLevel1 बेरोजगार चयनित शिक्षकों को नियुक्ति प्रदान कर गणतंत्र दिवस स्कूलों में मनाने का अवसर प्रदान करें।\n",
      "@ashokgehl…\n",
      "Sentiment(polarity=0.0, subjectivity=0.0)\n",
      "Schin https://t.co/bn3iDvIMsx\n",
      "Sentiment(polarity=0.0, subjectivity=0.0)\n",
      "@ReiterWgr99 As schin ja estão gelando kkkk\n",
      "Sentiment(polarity=0.0, subjectivity=0.0)\n",
      "RT @ReiterWgr99: Hj vou lá beber as schin com meu amigo @MauCoosta 😂😋\n",
      "Sentiment(polarity=0.0, subjectivity=0.0)\n",
      "@ReiterWgr99 @MauCoosta Schin q decadência 🤦🏽‍♀️😂\n",
      "Sentiment(polarity=0.0, subjectivity=0.0)\n",
      "Hj vou lá beber as schin com meu amigo @MauCoosta 😂😋\n",
      "Sentiment(polarity=0.0, subjectivity=0.0)\n",
      "É infecção intestinal mesmo meus amores \n",
      "Não bebam schin na praia\n",
      "Sentiment(polarity=0.0, subjectivity=0.0)\n"
     ]
    }
   ],
   "source": [
    "import tweepy\n",
    "from textblob import TextBlob\n",
    "auth=tweepy.OAuthHandler('xcCwQoOCxMM4YBDXbBgK7Xrdv','wJRBVVrJUXV2C9FsfktQqc1ZbCSOuWIGD4ujYd9MvFcinHrVWx')\n",
    "auth.set_access_token('821890292458524672-Xo7l2wnECosCbnLx7ZteFZJsv5RjtuN','0tsYw5p7NMC1TM7XttpjeVtRZXo9vYz56vLyCKuBfXTDf')\n",
    "api=tweepy.API(auth)\n",
    "public_tweepts=api.search('Schin')\n",
    "for tweet in public_tweepts:\n",
    "    print(tweet.text)\n",
    "    analysis=TextBlob(tweet.text)\n",
    "    print(analysis.sentiment)"
   ]
  },
  {
   "cell_type": "code",
   "execution_count": null,
   "metadata": {},
   "outputs": [],
   "source": []
  }
 ],
 "metadata": {
  "kernelspec": {
   "display_name": "Python 3",
   "language": "python",
   "name": "python3"
  },
  "language_info": {
   "codemirror_mode": {
    "name": "ipython",
    "version": 3
   },
   "file_extension": ".py",
   "mimetype": "text/x-python",
   "name": "python",
   "nbconvert_exporter": "python",
   "pygments_lexer": "ipython3",
   "version": "3.6.5"
  }
 },
 "nbformat": 4,
 "nbformat_minor": 2
}
